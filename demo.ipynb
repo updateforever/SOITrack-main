{
 "cells": [
  {
   "cell_type": "code",
   "execution_count": 1,
   "metadata": {},
   "outputs": [
    {
     "name": "stdout",
     "output_type": "stream",
     "text": [
      "📂 .txt 文件数量: 0\n",
      "📁 子文件夹数量: 9\n"
     ]
    }
   ],
   "source": [
    "import os\n",
    "\n",
    "def count_files_and_dirs(directory=\"nips25/lasot/test/odtrack/results_masked\"):\n",
    "    \"\"\"\n",
    "    统计指定文件夹内的 .txt 文件和子文件夹数量。\n",
    "\n",
    "    参数：\n",
    "        directory (str): 目标文件夹路径，默认为当前目录（\".\"）。\n",
    "\n",
    "    返回：\n",
    "        dict: 统计结果，包括 .txt 文件数量和子文件夹数量。\n",
    "    \"\"\"\n",
    "    txt_count = 0\n",
    "    dir_count = 0\n",
    "\n",
    "    for item in os.listdir(directory):\n",
    "        item_path = os.path.join(directory, item)\n",
    "        if os.path.isfile(item_path) and item.endswith(\".txt\"):\n",
    "            txt_count += 1\n",
    "        elif os.path.isdir(item_path):\n",
    "            dir_count += 1\n",
    "\n",
    "    return {\"txt_files\": txt_count, \"sub_dirs\": dir_count}\n",
    "\n",
    "if __name__ == \"__main__\":\n",
    "    result = count_files_and_dirs(\".\")  # 统计当前目录\n",
    "    print(f\"📂 .txt 文件数量: {result['txt_files']}\")\n",
    "    print(f\"📁 子文件夹数量: {result['sub_dirs']}\")\n"
   ]
  }
 ],
 "metadata": {
  "kernelspec": {
   "display_name": "odtrack",
   "language": "python",
   "name": "python3"
  },
  "language_info": {
   "codemirror_mode": {
    "name": "ipython",
    "version": 3
   },
   "file_extension": ".py",
   "mimetype": "text/x-python",
   "name": "python",
   "nbconvert_exporter": "python",
   "pygments_lexer": "ipython3",
   "version": "3.10.15"
  }
 },
 "nbformat": 4,
 "nbformat_minor": 2
}
